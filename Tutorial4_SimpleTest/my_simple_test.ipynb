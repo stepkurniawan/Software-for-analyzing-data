{
 "cells": [
  {
   "cell_type": "code",
   "execution_count": 15,
   "id": "ef3cab68",
   "metadata": {},
   "outputs": [
    {
     "data": {
      "text/plain": [
       "      ex1              ex2       \n",
       " Min.   :-0.500   Min.   :0.060  \n",
       " 1st Qu.: 3.210   1st Qu.:0.885  \n",
       " Median : 4.250   Median :1.310  \n",
       " Mean   : 4.315   Mean   :2.034  \n",
       " 3rd Qu.: 5.840   3rd Qu.:2.855  \n",
       " Max.   : 8.350   Max.   :7.210  "
      ]
     },
     "metadata": {},
     "output_type": "display_data"
    },
    {
     "data": {
      "text/html": [
       "<table class=\"dataframe\">\n",
       "<caption>A data.frame: 35 × 2</caption>\n",
       "<thead>\n",
       "\t<tr><th scope=col>ex1</th><th scope=col>ex2</th></tr>\n",
       "\t<tr><th scope=col>&lt;dbl&gt;</th><th scope=col>&lt;dbl&gt;</th></tr>\n",
       "</thead>\n",
       "<tbody>\n",
       "\t<tr><td>-0.50</td><td>0.21</td></tr>\n",
       "\t<tr><td> 2.47</td><td>1.04</td></tr>\n",
       "\t<tr><td> 2.54</td><td>1.11</td></tr>\n",
       "\t<tr><td> 2.91</td><td>0.27</td></tr>\n",
       "\t<tr><td> 3.13</td><td>5.27</td></tr>\n",
       "\t<tr><td> 3.29</td><td>4.01</td></tr>\n",
       "\t<tr><td> 1.00</td><td>0.41</td></tr>\n",
       "\t<tr><td> 3.40</td><td>0.83</td></tr>\n",
       "\t<tr><td> 3.82</td><td>3.00</td></tr>\n",
       "\t<tr><td> 3.89</td><td>7.21</td></tr>\n",
       "\t<tr><td> 3.90</td><td>0.35</td></tr>\n",
       "\t<tr><td> 3.91</td><td>1.01</td></tr>\n",
       "\t<tr><td> 3.95</td><td>2.62</td></tr>\n",
       "\t<tr><td> 4.13</td><td>0.62</td></tr>\n",
       "\t<tr><td> 4.25</td><td>1.91</td></tr>\n",
       "\t<tr><td> 0.50</td><td>2.76</td></tr>\n",
       "\t<tr><td> 4.32</td><td>4.13</td></tr>\n",
       "\t<tr><td> 1.30</td><td>2.21</td></tr>\n",
       "\t<tr><td> 5.50</td><td>1.08</td></tr>\n",
       "\t<tr><td> 5.80</td><td>1.55</td></tr>\n",
       "\t<tr><td> 5.00</td><td>0.94</td></tr>\n",
       "\t<tr><td> 5.00</td><td>0.56</td></tr>\n",
       "\t<tr><td> 7.50</td><td>2.92</td></tr>\n",
       "\t<tr><td> 5.08</td><td>1.19</td></tr>\n",
       "\t<tr><td> 5.48</td><td>4.58</td></tr>\n",
       "\t<tr><td> 5.66</td><td>2.45</td></tr>\n",
       "\t<tr><td> 5.88</td><td>1.31</td></tr>\n",
       "\t<tr><td> 5.95</td><td>1.63</td></tr>\n",
       "\t<tr><td> 6.01</td><td>1.15</td></tr>\n",
       "\t<tr><td> 6.03</td><td>0.97</td></tr>\n",
       "\t<tr><td> 6.24</td><td>5.34</td></tr>\n",
       "\t<tr><td> 6.34</td><td>0.06</td></tr>\n",
       "\t<tr><td> 6.39</td><td>2.79</td></tr>\n",
       "\t<tr><td> 2.60</td><td>3.51</td></tr>\n",
       "\t<tr><td> 8.35</td><td>0.20</td></tr>\n",
       "</tbody>\n",
       "</table>\n"
      ],
      "text/latex": [
       "A data.frame: 35 × 2\n",
       "\\begin{tabular}{ll}\n",
       " ex1 & ex2\\\\\n",
       " <dbl> & <dbl>\\\\\n",
       "\\hline\n",
       "\t -0.50 & 0.21\\\\\n",
       "\t  2.47 & 1.04\\\\\n",
       "\t  2.54 & 1.11\\\\\n",
       "\t  2.91 & 0.27\\\\\n",
       "\t  3.13 & 5.27\\\\\n",
       "\t  3.29 & 4.01\\\\\n",
       "\t  1.00 & 0.41\\\\\n",
       "\t  3.40 & 0.83\\\\\n",
       "\t  3.82 & 3.00\\\\\n",
       "\t  3.89 & 7.21\\\\\n",
       "\t  3.90 & 0.35\\\\\n",
       "\t  3.91 & 1.01\\\\\n",
       "\t  3.95 & 2.62\\\\\n",
       "\t  4.13 & 0.62\\\\\n",
       "\t  4.25 & 1.91\\\\\n",
       "\t  0.50 & 2.76\\\\\n",
       "\t  4.32 & 4.13\\\\\n",
       "\t  1.30 & 2.21\\\\\n",
       "\t  5.50 & 1.08\\\\\n",
       "\t  5.80 & 1.55\\\\\n",
       "\t  5.00 & 0.94\\\\\n",
       "\t  5.00 & 0.56\\\\\n",
       "\t  7.50 & 2.92\\\\\n",
       "\t  5.08 & 1.19\\\\\n",
       "\t  5.48 & 4.58\\\\\n",
       "\t  5.66 & 2.45\\\\\n",
       "\t  5.88 & 1.31\\\\\n",
       "\t  5.95 & 1.63\\\\\n",
       "\t  6.01 & 1.15\\\\\n",
       "\t  6.03 & 0.97\\\\\n",
       "\t  6.24 & 5.34\\\\\n",
       "\t  6.34 & 0.06\\\\\n",
       "\t  6.39 & 2.79\\\\\n",
       "\t  2.60 & 3.51\\\\\n",
       "\t  8.35 & 0.20\\\\\n",
       "\\end{tabular}\n"
      ],
      "text/markdown": [
       "\n",
       "A data.frame: 35 × 2\n",
       "\n",
       "| ex1 &lt;dbl&gt; | ex2 &lt;dbl&gt; |\n",
       "|---|---|\n",
       "| -0.50 | 0.21 |\n",
       "|  2.47 | 1.04 |\n",
       "|  2.54 | 1.11 |\n",
       "|  2.91 | 0.27 |\n",
       "|  3.13 | 5.27 |\n",
       "|  3.29 | 4.01 |\n",
       "|  1.00 | 0.41 |\n",
       "|  3.40 | 0.83 |\n",
       "|  3.82 | 3.00 |\n",
       "|  3.89 | 7.21 |\n",
       "|  3.90 | 0.35 |\n",
       "|  3.91 | 1.01 |\n",
       "|  3.95 | 2.62 |\n",
       "|  4.13 | 0.62 |\n",
       "|  4.25 | 1.91 |\n",
       "|  0.50 | 2.76 |\n",
       "|  4.32 | 4.13 |\n",
       "|  1.30 | 2.21 |\n",
       "|  5.50 | 1.08 |\n",
       "|  5.80 | 1.55 |\n",
       "|  5.00 | 0.94 |\n",
       "|  5.00 | 0.56 |\n",
       "|  7.50 | 2.92 |\n",
       "|  5.08 | 1.19 |\n",
       "|  5.48 | 4.58 |\n",
       "|  5.66 | 2.45 |\n",
       "|  5.88 | 1.31 |\n",
       "|  5.95 | 1.63 |\n",
       "|  6.01 | 1.15 |\n",
       "|  6.03 | 0.97 |\n",
       "|  6.24 | 5.34 |\n",
       "|  6.34 | 0.06 |\n",
       "|  6.39 | 2.79 |\n",
       "|  2.60 | 3.51 |\n",
       "|  8.35 | 0.20 |\n",
       "\n"
      ],
      "text/plain": [
       "   ex1   ex2 \n",
       "1  -0.50 0.21\n",
       "2   2.47 1.04\n",
       "3   2.54 1.11\n",
       "4   2.91 0.27\n",
       "5   3.13 5.27\n",
       "6   3.29 4.01\n",
       "7   1.00 0.41\n",
       "8   3.40 0.83\n",
       "9   3.82 3.00\n",
       "10  3.89 7.21\n",
       "11  3.90 0.35\n",
       "12  3.91 1.01\n",
       "13  3.95 2.62\n",
       "14  4.13 0.62\n",
       "15  4.25 1.91\n",
       "16  0.50 2.76\n",
       "17  4.32 4.13\n",
       "18  1.30 2.21\n",
       "19  5.50 1.08\n",
       "20  5.80 1.55\n",
       "21  5.00 0.94\n",
       "22  5.00 0.56\n",
       "23  7.50 2.92\n",
       "24  5.08 1.19\n",
       "25  5.48 4.58\n",
       "26  5.66 2.45\n",
       "27  5.88 1.31\n",
       "28  5.95 1.63\n",
       "29  6.01 1.15\n",
       "30  6.03 0.97\n",
       "31  6.24 5.34\n",
       "32  6.34 0.06\n",
       "33  6.39 2.79\n",
       "34  2.60 3.51\n",
       "35  8.35 0.20"
      ]
     },
     "metadata": {},
     "output_type": "display_data"
    }
   ],
   "source": [
    "distr <- read.csv(\"C:\\\\Users\\\\steph\\\\OneDrive - Leuphana Universität\\\\Semester 1\\\\SfAD - Software for analyzing data\\\\Tutorial 1\\\\Data\\\\Distributions.csv\")\n",
    "summary(distr)\n",
    "distr"
   ]
  },
  {
   "cell_type": "code",
   "execution_count": 8,
   "id": "6ad866b9",
   "metadata": {},
   "outputs": [
    {
     "data": {
      "text/plain": [
       "\n",
       "\tShapiro-Wilk normality test\n",
       "\n",
       "data:  distr$ex1\n",
       "W = 0.97471, p-value = 0.5847\n"
      ]
     },
     "metadata": {},
     "output_type": "display_data"
    },
    {
     "data": {
      "text/plain": [
       "\n",
       "\tShapiro-Wilk normality test\n",
       "\n",
       "data:  distr$ex2\n",
       "W = 0.88499, p-value = 0.0016\n"
      ]
     },
     "metadata": {},
     "output_type": "display_data"
    }
   ],
   "source": [
    "shapiro.test(distr$ex1)\n",
    "shapiro.test(distr$ex2)"
   ]
  },
  {
   "cell_type": "code",
   "execution_count": 20,
   "id": "4b58012a",
   "metadata": {},
   "outputs": [
    {
     "data": {
      "image/png": "[encoded data removed]",
      "text/plain": [
       "plot without title"
      ]
     },
     "metadata": {
      "image/png": {
       "height": 420,
       "width": 420
      }
     },
     "output_type": "display_data"
    },
    {
     "data": {
      "image/png": "[encoded data removed]",
      "text/plain": [
       "Plot with title \"Histogram of distr$ex1\""
      ]
     },
     "metadata": {
      "image/png": {
       "height": 420,
       "width": 420
      }
     },
     "output_type": "display_data"
    },
    {
     "data": {
      "image/png": "[encoded data removed]",
      "text/plain": [
       "Plot with title \"Histogram of distr$ex2\""
      ]
     },
     "metadata": {
      "image/png": {
       "height": 420,
       "width": 420
      }
     },
     "output_type": "display_data"
    },
    {
     "data": {
      "image/png": "[encoded data removed]",
      "text/plain": [
       "plot without title"
      ]
     },
     "metadata": {
      "image/png": {
       "height": 420,
       "width": 420
      }
     },
     "output_type": "display_data"
    }
   ],
   "source": [
    "boxplot (distr)\n",
    "hist(distr$ex1); hist(distr$ex2)\n",
    "scatter.smooth(distr$ex1)"
   ]
  },
  {
   "cell_type": "code",
   "execution_count": 18,
   "id": "9d508e0c",
   "metadata": {},
   "outputs": [
    {
     "data": {
      "text/plain": [
       "\n",
       "\tF test to compare two variances\n",
       "\n",
       "data:  distr$ex1 and distr$ex2\n",
       "F = 1.2888, num df = 34, denom df = 34, p-value = 0.4634\n",
       "alternative hypothesis: true ratio of variances is not equal to 1\n",
       "95 percent confidence interval:\n",
       " 0.6505316 2.5532283\n",
       "sample estimates:\n",
       "ratio of variances \n",
       "          1.288781 \n"
      ]
     },
     "metadata": {},
     "output_type": "display_data"
    }
   ],
   "source": [
    "#F test = var test\n",
    "var.test(distr$ex1, distr$ex2)"
   ]
  }
 ],
 "metadata": {
  "kernelspec": {
   "display_name": "R",
   "language": "R",
   "name": "ir"
  },
  "language_info": {
   "codemirror_mode": "r",
   "file_extension": ".r",
   "mimetype": "text/x-r-source",
   "name": "R",
   "pygments_lexer": "r",
   "version": "4.1.1"
  }
 },
 "nbformat": 4,
 "nbformat_minor": 5
}
